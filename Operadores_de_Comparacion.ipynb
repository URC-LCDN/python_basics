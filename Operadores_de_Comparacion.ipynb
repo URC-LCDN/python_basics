{
  "nbformat": 4,
  "nbformat_minor": 0,
  "metadata": {
    "colab": {
      "provenance": [],
      "authorship_tag": "ABX9TyNT+WbF9V/X901/KdcoEvgq",
      "include_colab_link": true
    },
    "kernelspec": {
      "name": "python3",
      "display_name": "Python 3"
    },
    "language_info": {
      "name": "python"
    }
  },
  "cells": [
    {
      "cell_type": "markdown",
      "metadata": {
        "id": "view-in-github",
        "colab_type": "text"
      },
      "source": [
        "<a href=\"https://colab.research.google.com/github/URC-LCDN/python_basics/blob/main/Operadores_de_Comparacion.ipynb\" target=\"_parent\"><img src=\"https://colab.research.google.com/assets/colab-badge.svg\" alt=\"Open In Colab\"/></a>"
      ]
    },
    {
      "cell_type": "markdown",
      "source": [
        "![urc_logo_ext.png](data:image/png;base64,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)"
      ],
      "metadata": {
        "id": "PzD2VroQVjcA"
      }
    },
    {
      "cell_type": "markdown",
      "source": [
        "**Actualizado:** Agosto de 2024"
      ],
      "metadata": {
        "id": "uwL82vw0VlgS"
      }
    },
    {
      "cell_type": "markdown",
      "source": [
        "## Operadores Lógicos"
      ],
      "metadata": {
        "id": "KVAYpvAGVtW7"
      }
    },
    {
      "cell_type": "markdown",
      "source": [
        "Los operadores lógicos son utilizados para realizar comparaciones y tomar decisiones basadas en condiciones múltiples. Dichos operadores permiten combinar varias expresiones y evaluar si son verdaderas o falsas en conjunto.  \n",
        "\n",
        "\n",
        "Son comúnmente utilizados en estructuras de control como sentencias `if`, bucles `while`, y otras decisiones condicionales."
      ],
      "metadata": {
        "id": "BcEhW1uKaGLx"
      }
    },
    {
      "cell_type": "markdown",
      "source": [
        "En Python se tienen tres operadores lógicos:\n",
        "\n",
        " * **`and`**:  \n",
        "    Retorna `True` si ambas expresiones son verdaderas; de lo contrario, retorna `False`.\n",
        " * **`or`**:  \n",
        "    Retorna `True` si al menos una de las expresiones es verdadera; si ambas son falsas, retorna `False`.\n",
        " * **`not`**:   \n",
        "    Invierte el valor de verdad de una expresión; si la expresión es `True`, `not` la convierte en `False`, y viceversa."
      ],
      "metadata": {
        "id": "jMGMVHuMaljl"
      }
    },
    {
      "cell_type": "markdown",
      "source": [
        "Uso de los operadores lógicos:"
      ],
      "metadata": {
        "id": "uBGoWDu9bDbz"
      }
    },
    {
      "cell_type": "markdown",
      "source": [
        "##### Operador `and`"
      ],
      "metadata": {
        "id": "SBmKFKZsbKar"
      }
    },
    {
      "cell_type": "code",
      "source": [
        "edad = 30\n",
        "tiene_ine = True\n",
        "\n",
        "# Verifica si la persona es mayor de edad y tiene ine\n",
        "puede_votar = edad >= 18 and tiene_ine\n",
        "print(\"¿Puede votar?\", puede_votar)"
      ],
      "metadata": {
        "id": "lowST42ahcWZ"
      },
      "execution_count": null,
      "outputs": []
    },
    {
      "cell_type": "markdown",
      "source": [
        "En este ejemplo, la variable `puede_votar` será `True` solo si la persona tiene 18 años o más **y** si tiene INE.\n"
      ],
      "metadata": {
        "id": "hD7sgYEAmMbp"
      }
    },
    {
      "cell_type": "markdown",
      "source": [
        "Tabla de verdad del operador `and`\n",
        "\n",
        "| `A` | `B` | `A and B` |\n",
        "|:---:|:---:|:--------:|\n",
        "|  T  |  T  |    T     |\n",
        "|  T  |  F  |    F     |\n",
        "|  F  |  T  |    F     |\n",
        "|  F  |  F  |    F     |"
      ],
      "metadata": {
        "id": "UTV_Sko3qGY4"
      }
    },
    {
      "cell_type": "markdown",
      "source": [
        "##### Operador `or`"
      ],
      "metadata": {
        "id": "P38iirO7mTxo"
      }
    },
    {
      "cell_type": "code",
      "source": [
        "hay_horchata = True\n",
        "hay_jamaica = False\n",
        "\n",
        "# Verifica si aun tengo agua fresca jamaica o horchata\n",
        "tengo_aguas_fresca = hay_horchata or hay_jamaica\n",
        "print(\"¿Puede vender agua fresca?\", tengo_aguas_fresca)"
      ],
      "metadata": {
        "id": "kPmenPHKmdGn"
      },
      "execution_count": null,
      "outputs": []
    },
    {
      "cell_type": "markdown",
      "source": [
        "Tabla de verdad del operador `or`\n",
        "\n",
        "| `A` | `B` | `A or B` |\n",
        "|:---:|:---:|:-------:|\n",
        "|  T  |  T  |    T    |\n",
        "|  T  |  F  |    T    |\n",
        "|  F  |  T  |    T    |\n",
        "|  F  |  F  |    F    |\n",
        "\n"
      ],
      "metadata": {
        "id": "RpzYbHZmqIoZ"
      }
    },
    {
      "cell_type": "markdown",
      "source": [
        "La variable `tengo_aguas_fresca` será `True` si hay agua de horchata **o** hay agua de jamaica. Si al menos una de estas condiciones es verdadera, la expresión completa es verdadera."
      ],
      "metadata": {
        "id": "l4knY4pimchF"
      }
    },
    {
      "cell_type": "markdown",
      "source": [
        "##### Operador `not`"
      ],
      "metadata": {
        "id": "aOuyZlwYmXXJ"
      }
    },
    {
      "cell_type": "code",
      "source": [
        "es_egresado_urc = False\n",
        "\n",
        "no_es_egresado_urc = not es_egresado_urc\n",
        "print(\"¿No se graduó de la URC?\", no_es_egresado_urc)"
      ],
      "metadata": {
        "id": "JHPMBvLAoO8U"
      },
      "execution_count": null,
      "outputs": []
    },
    {
      "cell_type": "markdown",
      "source": [
        "En este caso, `no_es_egresado_urc` invierte el valor de `es_egresado_urc`. Si\n",
        "`es_egresado_urc` es `False`, `no_es_egresado_urc` será `True`."
      ],
      "metadata": {
        "id": "24MDRYXioOwE"
      }
    },
    {
      "cell_type": "markdown",
      "source": [
        "Tabla de verdad del operador `not`\n",
        "\n",
        "| `A` | `not A` |\n",
        "|:---:|:-------:|\n",
        "|  T  |    F    |\n",
        "|  F  |    T    |\n"
      ],
      "metadata": {
        "id": "AawxxmybqP4c"
      }
    },
    {
      "cell_type": "markdown",
      "source": [
        "### Ejercicios"
      ],
      "metadata": {
        "id": "P3CTMXEPqT_K"
      }
    },
    {
      "cell_type": "markdown",
      "source": [
        "#### **Ejercicio 1**"
      ],
      "metadata": {
        "id": "ADBt0p9ZqaSl"
      }
    },
    {
      "cell_type": "markdown",
      "source": [
        "Escribe un programa que determine si una persona es apta para donar sangre. Para ser apto, la persona debe tener entre 18 y 65 años y pesar más de 50 kg."
      ],
      "metadata": {
        "id": "OJDDC2unqhOn"
      }
    },
    {
      "cell_type": "code",
      "source": [
        "# Escribe tu codigo aqui"
      ],
      "metadata": {
        "id": "pvwvBUbgqhlB"
      },
      "execution_count": null,
      "outputs": []
    },
    {
      "cell_type": "markdown",
      "source": [
        "#### **Ejercicio 2**"
      ],
      "metadata": {
        "id": "1eWI5oBlqcw7"
      }
    },
    {
      "cell_type": "markdown",
      "source": [
        "Escribe un programa que determine si un número está fuera del rango entre 10 y 20."
      ],
      "metadata": {
        "id": "cGZ1LilDq1x_"
      }
    },
    {
      "cell_type": "code",
      "source": [
        "# Escribe tu codigo aqui"
      ],
      "metadata": {
        "id": "tP1aAuKZq2F1"
      },
      "execution_count": null,
      "outputs": []
    },
    {
      "cell_type": "markdown",
      "source": [
        "#### **Ejercicio 3**"
      ],
      "metadata": {
        "id": "LYoq1tr8qdso"
      }
    },
    {
      "cell_type": "markdown",
      "source": [
        "Escribe un programa que verifique si una persona puede acceder a un descuento para viajar en autobús en vacaciones escolares. El descuento es aplicable si la persona es estudiante, es profesor o tiene más de 60 años."
      ],
      "metadata": {
        "id": "Vi7Kw95eqoN_"
      }
    },
    {
      "cell_type": "code",
      "source": [
        "# Escribe tu codigo aqui"
      ],
      "metadata": {
        "id": "WHvSA75iqnau"
      },
      "execution_count": null,
      "outputs": []
    },
    {
      "cell_type": "markdown",
      "source": [
        "## Operadores de Pertenencia y de Identidad"
      ],
      "metadata": {
        "id": "u7DhuByYrFdH"
      }
    },
    {
      "cell_type": "markdown",
      "source": [
        "Además de los operadores lógicos, `Python` cuenta con operadores de pertenencia e identidad que permiten realizar comparaciones más específicas en listas, cadenas y otras estructuras de datos.\n",
        "\n",
        "Estos operadores son útiles para verificar si un elemento se encuentra dentro de una colección o si dos variables hacen referencia al mismo objeto en memoria."
      ],
      "metadata": {
        "id": "aHaAts5yrQB7"
      }
    },
    {
      "cell_type": "markdown",
      "source": [
        "### Operadores de Pertenencia"
      ],
      "metadata": {
        "id": "fbF9K6OorXNE"
      }
    },
    {
      "cell_type": "markdown",
      "source": [
        "Los operadores de pertenencia se utilizan para verificar si un valor está presente en una secuencia, como una lista, una cadena o una tupla."
      ],
      "metadata": {
        "id": "K0E9GgROra9b"
      }
    },
    {
      "cell_type": "markdown",
      "source": [
        "En Python se tienen dos operadores de pertenencia:  \n",
        "\n",
        " * **`in`**:  \n",
        "    Retorna `True` si un valor está presente en la secuencia.\n",
        " * **`not in`**:  \n",
        "    Retorna `True` si un valor **no** está presente en la secuencia.\n",
        "\n"
      ],
      "metadata": {
        "id": "bVD9gadrrdK4"
      }
    },
    {
      "cell_type": "markdown",
      "source": [
        "##### Ejemplos"
      ],
      "metadata": {
        "id": "6gznLpvhruBf"
      }
    },
    {
      "cell_type": "markdown",
      "source": [
        "**Operador `in`**"
      ],
      "metadata": {
        "id": "EtexCJ_Hr0Nl"
      }
    },
    {
      "cell_type": "code",
      "source": [
        "frutas = [\"manzana\", \"banana\", \"cereza\"]\n",
        "# Verifica si 'manzana' está en la lista de frutas\n",
        "esta_manzana = \"manzana\" in frutas\n",
        "print(\"¿La manzana está en la lista?\", esta_manzana)"
      ],
      "metadata": {
        "id": "ud_NtXH5rdnO"
      },
      "execution_count": null,
      "outputs": []
    },
    {
      "cell_type": "markdown",
      "source": [
        "La variable `esta_manzana` será `True` porque \"manzana\" está en la lista `frutas`."
      ],
      "metadata": {
        "id": "cV9-XJHrsAXM"
      }
    },
    {
      "cell_type": "markdown",
      "source": [
        "**Operador `not in`**"
      ],
      "metadata": {
        "id": "V-D20Kxfrdxv"
      }
    },
    {
      "cell_type": "code",
      "source": [
        "frutas = [\"manzana\", \"banana\", \"cereza\"]\n",
        "# Verifica si 'uva' no está en la lista de frutas\n",
        "no_esta_uva = \"uva\" not in frutas\n",
        "print(\"¿La uva No está en la lista?\", no_esta_uva)"
      ],
      "metadata": {
        "id": "Nv9L6hZlr-M8"
      },
      "execution_count": null,
      "outputs": []
    },
    {
      "cell_type": "markdown",
      "source": [
        "Aquí, `no_esta_uva` será `True` porque \"uva\" no está en la lista `frutas`."
      ],
      "metadata": {
        "id": "oQOvI3pgsAv7"
      }
    },
    {
      "cell_type": "markdown",
      "source": [
        "### Operadores de Identidad"
      ],
      "metadata": {
        "id": "CVCIzO1BsUjI"
      }
    },
    {
      "cell_type": "markdown",
      "source": [
        "Los operadores de identidad se utilizan para comparar si dos variables apuntan al mismo objeto en memoria, no solo si tienen el mismo valor."
      ],
      "metadata": {
        "id": "CzaiQMzLsX8k"
      }
    },
    {
      "cell_type": "markdown",
      "source": [
        "En Python se tienen dos operadores de identidad:  \n",
        "\n",
        " * **`is`**:  \n",
        "    Retorna `True` si dos variables son el mismo objeto en memoria.\n",
        " * **`is not`**:  \n",
        "    Retorna `True` si dos variables **no** son el mismo objeto en memoria."
      ],
      "metadata": {
        "id": "80iYVfzmsbSM"
      }
    },
    {
      "cell_type": "markdown",
      "source": [
        "#### Ejemplo"
      ],
      "metadata": {
        "id": "vFJxEhdmsb8Z"
      }
    },
    {
      "cell_type": "markdown",
      "source": [
        "**Operador `is`**"
      ],
      "metadata": {
        "id": "G9MFdKXasq7W"
      }
    },
    {
      "cell_type": "code",
      "source": [
        "a = [1, 2, 3]\n",
        "b = a\n",
        "\n",
        "# Verifica si 'a' y 'b' son el mismo objeto en memoria\n",
        "son_el_mismo_objeto = a is b\n",
        "print(\"¿'a' y 'b' son el mismo objeto?\", son_el_mismo_objeto)"
      ],
      "metadata": {
        "id": "o9608Z-FsbaY"
      },
      "execution_count": null,
      "outputs": []
    },
    {
      "cell_type": "markdown",
      "source": [
        "En este caso, `son_el_mismo_objeto` será `True` porque `b` es una referencia al mismo objeto de la lista que `a`."
      ],
      "metadata": {
        "id": "QcVHFvcis0Rg"
      }
    },
    {
      "cell_type": "markdown",
      "source": [
        "**Operador `is not`**"
      ],
      "metadata": {
        "id": "HpIzNVcQs4Ku"
      }
    },
    {
      "cell_type": "code",
      "source": [
        "a = [1, 2, 3]\n",
        "c = [1, 2, 3]\n",
        "\n",
        "# Verifica si 'a' y 'c' no son el mismo objeto en memoria\n",
        "no_son_el_mismo_objeto = a is not c\n",
        "print(\"¿'a' y 'c' no son el mismo objeto?\", no_son_el_mismo_objeto)"
      ],
      "metadata": {
        "id": "I3KE-H2js8VJ"
      },
      "execution_count": null,
      "outputs": []
    },
    {
      "cell_type": "markdown",
      "source": [
        "### Ejercicios"
      ],
      "metadata": {
        "id": "67fnQWTJs7rN"
      }
    },
    {
      "cell_type": "markdown",
      "source": [
        "#### **Ejercicio 1**"
      ],
      "metadata": {
        "id": "A0ROV96GtyTa"
      }
    },
    {
      "cell_type": "markdown",
      "source": [
        "Escribe un programa que verifique si una palabra dada está en una lista de palabras."
      ],
      "metadata": {
        "id": "Xor-QyDFt-07"
      }
    },
    {
      "cell_type": "code",
      "source": [
        "# Coloca aqui tu respuesta"
      ],
      "metadata": {
        "id": "fGWtwzvuuChH"
      },
      "execution_count": null,
      "outputs": []
    },
    {
      "cell_type": "markdown",
      "source": [
        "#### **Ejercicio 2**"
      ],
      "metadata": {
        "id": "UTVVegQIt2bL"
      }
    },
    {
      "cell_type": "markdown",
      "source": [
        "Escribe un programa que verifique si un número no está en una lista de números."
      ],
      "metadata": {
        "id": "0ydlYt-lt_P_"
      }
    },
    {
      "cell_type": "code",
      "source": [
        "# Coloca aqui tu respuesta"
      ],
      "metadata": {
        "id": "R-aPj1swt_aZ"
      },
      "execution_count": null,
      "outputs": []
    }
  ]
}